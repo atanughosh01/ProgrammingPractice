{
 "cells": [
  {
   "cell_type": "code",
   "execution_count": 1,
   "metadata": {
    "colab": {
     "base_uri": "https://localhost:8080/"
    },
    "id": "Agp1RynhUuF1",
    "outputId": "d28b750c-b24c-44dc-fb92-ed6a87237f4c"
   },
   "outputs": [
    {
     "name": "stdout",
     "output_type": "stream",
     "text": [
      "Area of Reactangle-1 = 600\n",
      "Area of Reactangle-2 = 2000\n"
     ]
    }
   ],
   "source": [
    "'''================= Class ===================='''\n",
    "class Rectangle:\n",
    "    def __init__(self, height, width):\n",
    "        self.h = height\n",
    "        self.w = width\n",
    "\n",
    "'''================= Objects ===================='''\n",
    "rect1 = Rectangle(20, 30)\n",
    "rect2 = Rectangle(50, 40)\n",
    "\n",
    "rect1.area = rect1.h * rect1.w\n",
    "rect2.area = rect2.h * rect2.w\n",
    "\n",
    "print(f\"Area of Reactangle-1 = {rect1.area}\")\n",
    "print(f\"Area of Reactangle-2 = {rect2.area}\")\n"
   ]
  },
  {
   "cell_type": "code",
   "execution_count": 2,
   "metadata": {
    "colab": {
     "base_uri": "https://localhost:8080/"
    },
    "id": "Kdv0Np_9WX7D",
    "outputId": "997a6c52-e68b-4e0b-9f3e-d89521c490b7"
   },
   "outputs": [
    {
     "name": "stdout",
     "output_type": "stream",
     "text": [
      "\n",
      "Speed --> 200\n",
      "Color --> red\n",
      "__init__() is called\n",
      "\n",
      "Speed --> 220\n",
      "Color --> blue\n",
      "__init__() is called\n",
      "\n",
      "Speed --> 250\n",
      "Color --> black\n",
      "__init__() is called\n",
      "\n",
      "Speed of Ford is --> 200 kmph\n",
      "Color of Ford is --> red\n"
     ]
    }
   ],
   "source": [
    "'''================= Class ===================='''\n",
    "class Car:\n",
    "    def __init__(self, speed, color):\n",
    "        print(f\"\\nSpeed --> {speed}\")\n",
    "        print(f\"Color --> {color}\")\n",
    "        self.s = speed\n",
    "        self.c = color\n",
    "        print(\"__init__() is called\")\n",
    "\n",
    "'''================= Objects ===================='''\n",
    "ford = Car(200, \"red\")\n",
    "honda = Car(220, \"blue\")\n",
    "audi = Car(250, \"black\")\n",
    "\n",
    "try:\n",
    "    print(f\"\\nSpeed of Ford is --> {ford.s} kmph\")\n",
    "    print(f\"Color of Ford is --> {ford.c}\")\n",
    "except Exception as e:\n",
    "    print(f\"\\nERROR : {e}\")\n",
    "    quit()\n"
   ]
  },
  {
   "cell_type": "code",
   "execution_count": 3,
   "metadata": {},
   "outputs": [
    {
     "name": "stdout",
     "output_type": "stream",
     "text": [
      "HI\n"
     ]
    }
   ],
   "source": [
    "print(\"HI\")"
   ]
  },
  {
   "cell_type": "code",
   "execution_count": null,
   "metadata": {},
   "outputs": [],
   "source": []
  }
 ],
 "metadata": {
  "colab": {
   "collapsed_sections": [],
   "name": "rectangle.ipynb",
   "provenance": []
  },
  "kernelspec": {
   "display_name": "Python 3",
   "language": "python",
   "name": "python3"
  },
  "language_info": {
   "codemirror_mode": {
    "name": "ipython",
    "version": 3
   },
   "file_extension": ".py",
   "mimetype": "text/x-python",
   "name": "python",
   "nbconvert_exporter": "python",
   "pygments_lexer": "ipython3",
   "version": "3.8.5"
  }
 },
 "nbformat": 4,
 "nbformat_minor": 1
}
